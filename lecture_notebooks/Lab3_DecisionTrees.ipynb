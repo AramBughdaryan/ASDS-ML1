{
  "cells": [
    {
      "cell_type": "markdown",
      "metadata": {
        "id": "bStU8M4MJNgQ"
      },
      "source": [
        "# Decision Trees\n"
      ]
    },
    {
      "cell_type": "code",
      "execution_count": 21,
      "metadata": {
        "id": "jcDKVqyXSkAq"
      },
      "outputs": [],
      "source": [
        "import pandas as pd\n",
        "import numpy as np\n",
        "import matplotlib.pyplot as plt\n",
        "\n",
        "import graphviz   # will be used to visualize the trees\n",
        "\n",
        "from sklearn.model_selection import train_test_split\n",
        "from sklearn.tree import DecisionTreeClassifier, export_graphviz\n",
        "from sklearn.metrics import accuracy_score, classification_report, confusion_matrix, precision_score\n",
        "from sklearn import preprocessing\n",
        "from sklearn.tree import export_text"
      ]
    },
    {
      "cell_type": "markdown",
      "metadata": {
        "id": "kp-1D7cXSnxZ"
      },
      "source": [
        "In this practice session, we will consider the titanic dataset and the problem will be to predict whether the given passenger has survived the disaster or not."
      ]
    },
    {
      "cell_type": "code",
      "execution_count": 3,
      "metadata": {
        "colab": {
          "base_uri": "https://localhost:8080/"
        },
        "id": "muiOG332RIBB",
        "outputId": "b7b909c7-a7b7-462c-f4d9-ba841b55d259"
      },
      "outputs": [
        {
          "name": "stdout",
          "output_type": "stream",
          "text": [
            "   Survived  Pclass                                               Name  \\\n",
            "0         0       3                             Mr. Owen Harris Braund   \n",
            "1         1       1  Mrs. John Bradley (Florence Briggs Thayer) Cum...   \n",
            "2         1       3                              Miss. Laina Heikkinen   \n",
            "3         1       1        Mrs. Jacques Heath (Lily May Peel) Futrelle   \n",
            "4         0       3                            Mr. William Henry Allen   \n",
            "\n",
            "      Sex   Age  Siblings/Spouses Aboard  Parents/Children Aboard     Fare  \n",
            "0    male  22.0                        1                        0   7.2500  \n",
            "1  female  38.0                        1                        0  71.2833  \n",
            "2  female  26.0                        0                        0   7.9250  \n",
            "3  female  35.0                        1                        0  53.1000  \n",
            "4    male  35.0                        0                        0   8.0500  \n"
          ]
        }
      ],
      "source": [
        "url = \"https://web.stanford.edu/class/archive/cs/cs109/cs109.1166/stuff/titanic.csv\"\n",
        "titanic_df = pd.read_csv(url)\n",
        "print(titanic_df.head())"
      ]
    },
    {
      "cell_type": "markdown",
      "metadata": {
        "id": "RnEtp1OaTPul"
      },
      "source": [
        "Let's drop the column Name since it doesn't contain any signal for the classification problem."
      ]
    },
    {
      "cell_type": "code",
      "execution_count": 4,
      "metadata": {
        "id": "OLG9b7QMTBBi"
      },
      "outputs": [],
      "source": [
        "# Explore and preprocess the dataset\n",
        "titanic_df.drop(['Name'], axis=1, inplace=True)"
      ]
    },
    {
      "cell_type": "code",
      "execution_count": 5,
      "metadata": {
        "colab": {
          "base_uri": "https://localhost:8080/",
          "height": 206
        },
        "id": "0DadEdcKPw4V",
        "outputId": "2eb874f3-e2b6-4aec-8369-89f345b39b97"
      },
      "outputs": [
        {
          "data": {
            "text/html": [
              "<div>\n",
              "<style scoped>\n",
              "    .dataframe tbody tr th:only-of-type {\n",
              "        vertical-align: middle;\n",
              "    }\n",
              "\n",
              "    .dataframe tbody tr th {\n",
              "        vertical-align: top;\n",
              "    }\n",
              "\n",
              "    .dataframe thead th {\n",
              "        text-align: right;\n",
              "    }\n",
              "</style>\n",
              "<table border=\"1\" class=\"dataframe\">\n",
              "  <thead>\n",
              "    <tr style=\"text-align: right;\">\n",
              "      <th></th>\n",
              "      <th>Survived</th>\n",
              "      <th>Pclass</th>\n",
              "      <th>Sex</th>\n",
              "      <th>Age</th>\n",
              "      <th>Siblings/Spouses Aboard</th>\n",
              "      <th>Parents/Children Aboard</th>\n",
              "      <th>Fare</th>\n",
              "    </tr>\n",
              "  </thead>\n",
              "  <tbody>\n",
              "    <tr>\n",
              "      <th>0</th>\n",
              "      <td>0</td>\n",
              "      <td>3</td>\n",
              "      <td>male</td>\n",
              "      <td>22.0</td>\n",
              "      <td>1</td>\n",
              "      <td>0</td>\n",
              "      <td>7.2500</td>\n",
              "    </tr>\n",
              "    <tr>\n",
              "      <th>1</th>\n",
              "      <td>1</td>\n",
              "      <td>1</td>\n",
              "      <td>female</td>\n",
              "      <td>38.0</td>\n",
              "      <td>1</td>\n",
              "      <td>0</td>\n",
              "      <td>71.2833</td>\n",
              "    </tr>\n",
              "    <tr>\n",
              "      <th>2</th>\n",
              "      <td>1</td>\n",
              "      <td>3</td>\n",
              "      <td>female</td>\n",
              "      <td>26.0</td>\n",
              "      <td>0</td>\n",
              "      <td>0</td>\n",
              "      <td>7.9250</td>\n",
              "    </tr>\n",
              "    <tr>\n",
              "      <th>3</th>\n",
              "      <td>1</td>\n",
              "      <td>1</td>\n",
              "      <td>female</td>\n",
              "      <td>35.0</td>\n",
              "      <td>1</td>\n",
              "      <td>0</td>\n",
              "      <td>53.1000</td>\n",
              "    </tr>\n",
              "    <tr>\n",
              "      <th>4</th>\n",
              "      <td>0</td>\n",
              "      <td>3</td>\n",
              "      <td>male</td>\n",
              "      <td>35.0</td>\n",
              "      <td>0</td>\n",
              "      <td>0</td>\n",
              "      <td>8.0500</td>\n",
              "    </tr>\n",
              "  </tbody>\n",
              "</table>\n",
              "</div>"
            ],
            "text/plain": [
              "   Survived  Pclass     Sex   Age  Siblings/Spouses Aboard  \\\n",
              "0         0       3    male  22.0                        1   \n",
              "1         1       1  female  38.0                        1   \n",
              "2         1       3  female  26.0                        0   \n",
              "3         1       1  female  35.0                        1   \n",
              "4         0       3    male  35.0                        0   \n",
              "\n",
              "   Parents/Children Aboard     Fare  \n",
              "0                        0   7.2500  \n",
              "1                        0  71.2833  \n",
              "2                        0   7.9250  \n",
              "3                        0  53.1000  \n",
              "4                        0   8.0500  "
            ]
          },
          "execution_count": 5,
          "metadata": {},
          "output_type": "execute_result"
        }
      ],
      "source": [
        "titanic_df.head()"
      ]
    },
    {
      "cell_type": "markdown",
      "metadata": {
        "id": "kAOKxF9gTupn"
      },
      "source": [
        "Let's check whether there are any missing values in the data."
      ]
    },
    {
      "cell_type": "code",
      "execution_count": 6,
      "metadata": {
        "colab": {
          "base_uri": "https://localhost:8080/",
          "height": 303
        },
        "id": "dINi4pNFTgWj",
        "outputId": "22db87e7-f9fa-4659-cc60-77116378a43e"
      },
      "outputs": [
        {
          "data": {
            "text/plain": [
              "Survived                   0\n",
              "Pclass                     0\n",
              "Sex                        0\n",
              "Age                        0\n",
              "Siblings/Spouses Aboard    0\n",
              "Parents/Children Aboard    0\n",
              "Fare                       0\n",
              "dtype: int64"
            ]
          },
          "execution_count": 6,
          "metadata": {},
          "output_type": "execute_result"
        }
      ],
      "source": [
        "titanic_df.isna().sum()"
      ]
    },
    {
      "cell_type": "markdown",
      "metadata": {
        "id": "0j6EErE1UCdg"
      },
      "source": [
        "We will need to encode the Sex columns before proceeding to the modelling phase."
      ]
    },
    {
      "cell_type": "code",
      "execution_count": 7,
      "metadata": {
        "id": "WR3wB_6xT_dD"
      },
      "outputs": [],
      "source": [
        "titanic_df_ = pd.get_dummies(titanic_df, columns=['Sex'], drop_first=True)\n",
        "X = titanic_df_.drop('Survived', axis=1)\n",
        "y = titanic_df_['Survived']"
      ]
    },
    {
      "cell_type": "code",
      "execution_count": 8,
      "metadata": {
        "colab": {
          "base_uri": "https://localhost:8080/",
          "height": 206
        },
        "id": "y9l2bMlrQaed",
        "outputId": "101811ad-9e65-48c0-be38-af10e2ccc6df"
      },
      "outputs": [
        {
          "data": {
            "text/html": [
              "<div>\n",
              "<style scoped>\n",
              "    .dataframe tbody tr th:only-of-type {\n",
              "        vertical-align: middle;\n",
              "    }\n",
              "\n",
              "    .dataframe tbody tr th {\n",
              "        vertical-align: top;\n",
              "    }\n",
              "\n",
              "    .dataframe thead th {\n",
              "        text-align: right;\n",
              "    }\n",
              "</style>\n",
              "<table border=\"1\" class=\"dataframe\">\n",
              "  <thead>\n",
              "    <tr style=\"text-align: right;\">\n",
              "      <th></th>\n",
              "      <th>Pclass</th>\n",
              "      <th>Age</th>\n",
              "      <th>Siblings/Spouses Aboard</th>\n",
              "      <th>Parents/Children Aboard</th>\n",
              "      <th>Fare</th>\n",
              "      <th>Sex_male</th>\n",
              "    </tr>\n",
              "  </thead>\n",
              "  <tbody>\n",
              "    <tr>\n",
              "      <th>0</th>\n",
              "      <td>3</td>\n",
              "      <td>22.0</td>\n",
              "      <td>1</td>\n",
              "      <td>0</td>\n",
              "      <td>7.2500</td>\n",
              "      <td>True</td>\n",
              "    </tr>\n",
              "    <tr>\n",
              "      <th>1</th>\n",
              "      <td>1</td>\n",
              "      <td>38.0</td>\n",
              "      <td>1</td>\n",
              "      <td>0</td>\n",
              "      <td>71.2833</td>\n",
              "      <td>False</td>\n",
              "    </tr>\n",
              "    <tr>\n",
              "      <th>2</th>\n",
              "      <td>3</td>\n",
              "      <td>26.0</td>\n",
              "      <td>0</td>\n",
              "      <td>0</td>\n",
              "      <td>7.9250</td>\n",
              "      <td>False</td>\n",
              "    </tr>\n",
              "    <tr>\n",
              "      <th>3</th>\n",
              "      <td>1</td>\n",
              "      <td>35.0</td>\n",
              "      <td>1</td>\n",
              "      <td>0</td>\n",
              "      <td>53.1000</td>\n",
              "      <td>False</td>\n",
              "    </tr>\n",
              "    <tr>\n",
              "      <th>4</th>\n",
              "      <td>3</td>\n",
              "      <td>35.0</td>\n",
              "      <td>0</td>\n",
              "      <td>0</td>\n",
              "      <td>8.0500</td>\n",
              "      <td>True</td>\n",
              "    </tr>\n",
              "  </tbody>\n",
              "</table>\n",
              "</div>"
            ],
            "text/plain": [
              "   Pclass   Age  Siblings/Spouses Aboard  Parents/Children Aboard     Fare  \\\n",
              "0       3  22.0                        1                        0   7.2500   \n",
              "1       1  38.0                        1                        0  71.2833   \n",
              "2       3  26.0                        0                        0   7.9250   \n",
              "3       1  35.0                        1                        0  53.1000   \n",
              "4       3  35.0                        0                        0   8.0500   \n",
              "\n",
              "   Sex_male  \n",
              "0      True  \n",
              "1     False  \n",
              "2     False  \n",
              "3     False  \n",
              "4      True  "
            ]
          },
          "execution_count": 8,
          "metadata": {},
          "output_type": "execute_result"
        }
      ],
      "source": [
        "X.head()"
      ]
    },
    {
      "cell_type": "markdown",
      "metadata": {
        "id": "DiSuNQ7d8gYg"
      },
      "source": [
        "Since we do not have a separate test set, we need to construct it from the whole dataset."
      ]
    },
    {
      "cell_type": "code",
      "execution_count": 9,
      "metadata": {
        "id": "0scvGViiT20y"
      },
      "outputs": [],
      "source": [
        "X_train, X_test, y_train, y_test = train_test_split(X, y, test_size=0.3,\n",
        "                                                    random_state=0)\n"
      ]
    },
    {
      "cell_type": "code",
      "execution_count": 10,
      "metadata": {
        "colab": {
          "base_uri": "https://localhost:8080/"
        },
        "id": "EyOzke-v9gZj",
        "outputId": "2f6f82ca-319a-465e-8b7e-49f8a5864003"
      },
      "outputs": [
        {
          "name": "stdout",
          "output_type": "stream",
          "text": [
            "Class distribution in the train set:\n",
            " Survived\n",
            "0    383\n",
            "1    237\n",
            "Name: count, dtype: int64\n",
            "Class distribution in the test set:\n",
            " Survived\n",
            "0    162\n",
            "1    105\n",
            "Name: count, dtype: int64\n"
          ]
        }
      ],
      "source": [
        "print(\"Class distribution in the train set:\\n\", y_train.value_counts())\n",
        "print(\"Class distribution in the test set:\\n\", y_test.value_counts())"
      ]
    },
    {
      "cell_type": "markdown",
      "metadata": {
        "id": "8au_AAjQ8qfn"
      },
      "source": [
        "The bellow cell\n",
        "\n",
        "* creates a decision tree classifier\n",
        "* builds the actual tree on the training data\n",
        "* performs inference with the constructed tree on the test set\n",
        "\n",
        "\n"
      ]
    },
    {
      "cell_type": "code",
      "execution_count": 18,
      "metadata": {
        "id": "TVGlqok4TIlg"
      },
      "outputs": [],
      "source": [
        "clf = DecisionTreeClassifier()\n",
        "clf.fit(X_train, y_train)\n",
        "y_pred = clf.predict(X_test)"
      ]
    },
    {
      "cell_type": "code",
      "execution_count": 20,
      "metadata": {
        "colab": {
          "base_uri": "https://localhost:8080/",
          "height": 339
        },
        "id": "ervGwWsgUUWs",
        "outputId": "bf2764ad-0516-43ae-e8ef-e3a7ce8873ac"
      },
      "outputs": [
        {
          "name": "stdout",
          "output_type": "stream",
          "text": [
            "Accuracy on the train set: 0.98\n",
            "Accuracy on the test set: 0.77\n"
          ]
        }
      ],
      "source": [
        "accuracy_train = accuracy_score(y_train, clf.predict(X_train))\n",
        "accuracy_test = accuracy_score(y_test, y_pred)\n",
        "print(f'Accuracy on the train set: {accuracy_train:.2f}')\n",
        "print(f'Accuracy on the test set: {accuracy_test:.2f}')"
      ]
    },
    {
      "cell_type": "markdown",
      "metadata": {
        "id": "yk4FtymaWo_v"
      },
      "source": [
        "In classification tasks, accuracy is not the only metric that is used to assess the performance of a classifier.\n",
        "\n",
        "These metrics provide insights into the classifier's ability to make correct predictions, particularly in binary and multiclass classification scenarios. The key classification metrics include:"
      ]
    },
    {
      "cell_type": "markdown",
      "metadata": {
        "id": "SKlmfAllU_AX"
      },
      "source": [
        "1. **Precision**: Precision measures the accuracy of positive predictions made by the classifier. It answers the question:\n",
        "\n",
        "\"**Of all the instances predicted as positive, how many were actually positive?**\"\n",
        "\n",
        "A higher precision indicates fewer false positives.\n",
        "\n",
        "  **Formula**: $$\\text{Precision} = \\frac{TP}{TP + FP}$$\n",
        "\n",
        "  **TP** (True Positives): The number of correctly predicted positive instances.\n",
        "\n",
        "  **FP** (False Positives): The number of instances predicted as positive but actually negative.\n",
        "\n",
        "2. **Recall** (Sensitivity or True Positive Rate): Recall measures the ability of the classifier to correctly identify positive instances. It answers the question:\n",
        "\n",
        "\"**Of all the actual positive instances, how many were correctly predicted as positive**?\"\n",
        "\n",
        "A higher recall indicates fewer false negatives.\n",
        "\n",
        "  **Formula**: $$\\text{Recall} = \\frac{TP}{TP + FN}$$\n",
        "\n",
        "  **TP** (True Positives): The number of correctly predicted positive instances.\n",
        "  \n",
        "  **FN** (False Negatives): The number of instances predicted as negative but actually positive.\n",
        "\n",
        "3. **F1-Score**: The F1-Score is the harmonic mean of precision and recall. It provides a single metric that balances both precision and recall. It's useful when you want to find a balance between minimizing false positives and false negatives.\n",
        "\n",
        "  **Formula**: $$\\text{F1-Score} = 2 \\cdot \\frac{\\text{Precision} \\cdot \\text{Recall}}{\\text{Precision} + \\text{Recall}}$$"
      ]
    },
    {
      "cell_type": "code",
      "execution_count": 22,
      "metadata": {
        "id": "3FpxgWYYXRVc"
      },
      "outputs": [
        {
          "name": "stdout",
          "output_type": "stream",
          "text": [
            "Classification Report:\n",
            "               precision    recall  f1-score   support\n",
            "\n",
            "           0       0.81      0.80      0.81       162\n",
            "           1       0.70      0.71      0.71       105\n",
            "\n",
            "    accuracy                           0.77       267\n",
            "   macro avg       0.76      0.76      0.76       267\n",
            "weighted avg       0.77      0.77      0.77       267\n",
            "\n"
          ]
        }
      ],
      "source": [
        "print(\"Classification Report:\\n\", classification_report(y_test, y_pred))"
      ]
    },
    {
      "cell_type": "code",
      "execution_count": 25,
      "metadata": {},
      "outputs": [
        {
          "data": {
            "text/plain": [
              "0.8125"
            ]
          },
          "execution_count": 25,
          "metadata": {},
          "output_type": "execute_result"
        }
      ],
      "source": [
        "precision_score(y_true=y_test, y_pred=y_pred, pos_label=0)"
      ]
    },
    {
      "cell_type": "markdown",
      "metadata": {
        "id": "T7ORLucl_umR"
      },
      "source": [
        "**Support** is the number of true instances for each class.\n",
        "\n",
        "**Macro Avg** is the arithmetic mean of precision, recall, and F1-score across all classes, treating each class equally.\n",
        "\n",
        "**Weighted Avg** is the mean of precision, recall, and F1-score across classes, weighted by the number of instances (support) in each class."
      ]
    },
    {
      "cell_type": "code",
      "execution_count": 26,
      "metadata": {
        "id": "gSW10XWqXceL"
      },
      "outputs": [
        {
          "name": "stdout",
          "output_type": "stream",
          "text": [
            "Confusion Matrix:\n",
            " [[130  32]\n",
            " [ 30  75]]\n"
          ]
        }
      ],
      "source": [
        "print(\"Confusion Matrix:\\n\", confusion_matrix(y_test, y_pred))"
      ]
    },
    {
      "cell_type": "markdown",
      "metadata": {
        "id": "62DmkD-mXDUT"
      },
      "source": [
        "![](https://miro.medium.com/v2/resize:fit:712/1*Z54JgbS4DUwWSknhDCvNTQ.png)"
      ]
    },
    {
      "cell_type": "markdown",
      "metadata": {
        "id": "cbrU4gAfUnmp"
      },
      "source": [
        "Let's also look at the decision tree itself and try to interpret some of its decisions."
      ]
    },
    {
      "cell_type": "code",
      "execution_count": null,
      "metadata": {
        "id": "HZdYcEUXUXpy"
      },
      "outputs": [],
      "source": [
        "dot_data = export_graphviz(clf,\n",
        "                           out_file=None,\n",
        "                           feature_names=list(X.columns),\n",
        "                           class_names=['Not Survived', 'Survived'],\n",
        "                           filled=True,\n",
        "                           rounded=True,\n",
        "                           special_characters=True)\n",
        "\n",
        "graph = graphviz.Source(dot_data)\n",
        "graph.render(\"titanic_decision_tree\")"
      ]
    },
    {
      "cell_type": "markdown",
      "metadata": {
        "id": "9Gd3FH7_nkO7"
      },
      "source": [
        "## Hyper-parameter Tuning\n",
        "\n",
        "### Cross Validation\n",
        "\n",
        "![](https://towardsdatascience.com/wp-content/uploads/2023/12/1N45hocCMP0u4nXLe0WuSvw.png)\n",
        "\n",
        "Let's find a good set of hyper-parameters in order to get a good classifier."
      ]
    },
    {
      "cell_type": "code",
      "execution_count": null,
      "metadata": {
        "id": "d3iit7zzY0fQ"
      },
      "outputs": [],
      "source": [
        "from sklearn.model_selection import GridSearchCV\n",
        "\n",
        "clf = DecisionTreeClassifier()\n",
        "\n",
        "param_grid = {\n",
        "    'criterion': ['gini', 'entropy'],\n",
        "    'max_depth': [None, 5, 10, 15, 20],\n",
        "    'min_samples_split': [2, 5, 10],\n",
        "    'min_samples_leaf': [1, 2, 4]\n",
        "}\n",
        "\n",
        "grid_search = GridSearchCV(estimator=clf,\n",
        "                           param_grid=param_grid,\n",
        "                           cv=5,\n",
        "                           scoring='accuracy')\n",
        "\n",
        "grid_search.fit(X_train, y_train)\n",
        "\n",
        "# get the best hyperparameters and the corresponding model\n",
        "best_params = grid_search.best_params_\n",
        "best_model = grid_search.best_estimator_\n",
        "\n",
        "# evaluate the best model on the test data\n",
        "y_pred = best_model.predict(X_test)\n",
        "accuracy = accuracy_score(y_test, y_pred)\n",
        "\n",
        "print(\"Best Hyperparameters:\", best_params)\n",
        "print(\"Accuracy with the best Model:\", accuracy)"
      ]
    },
    {
      "cell_type": "markdown",
      "metadata": {
        "id": "ZXO8-3aRc8h5"
      },
      "source": [
        "## Feature Importances\n",
        "\n",
        "Tree-based models also provide feature importances, which indicate how much each feature contributes (**reduces the impurity**) to the model's decision-making process. Features with higher importances are considered more influential in making predictions.\n",
        "\n",
        "### Step 1: Compute the Impurity Reduction for a Split\n",
        "\n",
        "Each time a feature $X_j$ is used for splitting, we compute the impurity reduction:\n",
        "\n",
        "\n",
        "$$\\Delta I = \\text{Impurity}_{\\text{parent}} - \\left( w_{\\text{left}} \\times \\text{Impurity}_{\\text{left child}} + w_{\\text{right}} \\times \\text{Impurity}_{\\text{right child}} \\right)$$\n",
        "\n",
        "where:\n",
        "* $\\text{Impurity}_{\\text{parent}}$ is the impurity of the node before splitting.\n",
        "* $\\text{Impurity}_{\\text{left child}}$ and $\\text{Impurity}_{\\text{right child}}$ are the impurities of the resulting child nodes.\n",
        "* $w_{\\text{left}}$ and $w_{\\text{right}}$ are the proportions of samples in each child node.\n",
        "\n",
        "### Step 2: Aggregate the Reduction Over All Splits\n",
        "\n",
        "The importance of feature $X_j$ is computed by summing the impurity reductions over all the splits where it is used:\n",
        "\n",
        "$$\\text{Importance}_j = \\sum_{\\text{splits using } X_j} \\Delta I$$\n",
        "\n",
        "### Step 3: Normalize the Importance Scores\n",
        "\n",
        "To obtain relative feature importances, we normalize the scores so that they sum to 1:\n",
        "\n",
        "$$\\text{Feature Importance}_j = \\frac{\\sum \\Delta I_j}{\\sum \\Delta I_{\\text{all features}}}$$\n",
        "\n",
        "\n"
      ]
    },
    {
      "cell_type": "code",
      "execution_count": null,
      "metadata": {
        "id": "QxVQkYjlca1D"
      },
      "outputs": [],
      "source": [
        "importances = best_model.feature_importances_\n",
        "\n",
        "feature_importance_df = pd.DataFrame({'Feature': X.columns,\n",
        "                                      'Importance': importances})\n",
        "\n",
        "feature_importance_df = feature_importance_df.sort_values(by='Importance',\n",
        "                                                          ascending=False)\n",
        "\n",
        "print(feature_importance_df)"
      ]
    },
    {
      "cell_type": "code",
      "execution_count": null,
      "metadata": {
        "id": "N0gpgXb3FOuQ"
      },
      "outputs": [],
      "source": [
        "plt.figure(figsize=(10, 6))\n",
        "plt.barh(feature_importance_df['Feature'], feature_importance_df['Importance'])\n",
        "plt.xlabel('Importance')\n",
        "plt.ylabel('Feature')\n",
        "plt.title('Feature Importances')\n",
        "plt.show()"
      ]
    },
    {
      "cell_type": "markdown",
      "metadata": {
        "id": "SOQgoMAzdfM8"
      },
      "source": [
        "Sometimes you can get a better performing model if you eliminate the features of low importance. This is one thing that you will try in **HW2**."
      ]
    }
  ],
  "metadata": {
    "colab": {
      "provenance": []
    },
    "kernelspec": {
      "display_name": "torch",
      "language": "python",
      "name": "python3"
    },
    "language_info": {
      "codemirror_mode": {
        "name": "ipython",
        "version": 3
      },
      "file_extension": ".py",
      "mimetype": "text/x-python",
      "name": "python",
      "nbconvert_exporter": "python",
      "pygments_lexer": "ipython3",
      "version": "3.12.6"
    }
  },
  "nbformat": 4,
  "nbformat_minor": 0
}
